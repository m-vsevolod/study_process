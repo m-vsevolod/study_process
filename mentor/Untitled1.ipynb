{
 "cells": [
  {
   "cell_type": "code",
   "execution_count": 141,
   "metadata": {},
   "outputs": [],
   "source": [
    "#keeps the information about the experiment\n",
    "\n",
    "import math\n",
    "\n",
    "class data:\n",
    "    const = 10000\n",
    "    \n",
    "    t = 0\n",
    "    \n",
    "    flux_real = 30\n",
    "    flux_min = 0\n",
    "    flux_max = 100\n",
    "    flux_step = 0.1\n",
    "    \n",
    "    t_min = (math.pi / 2) / (const * (flux_max + flux_min) / 2)\n",
    "    t_max = 360 * 10 ** (-9)\n",
    "    \n",
    "    n = round((flux_max - flux_min) / flux_step) + 1\n",
    "    \n",
    "    def __init__(self):\n",
    "        data.t = data.t_min\n",
    "                 \n",
    "    def timestep(self):\n",
    "        data.t *= 2"
   ]
  },
  {
   "cell_type": "code",
   "execution_count": 127,
   "metadata": {},
   "outputs": [],
   "source": [
    "#returns the state \n",
    "\n",
    "import math\n",
    "import numpy\n",
    "numpy.random.seed(47)\n",
    "\n",
    "def randbin(data, f):\n",
    "    phi = data.const * f * data.t\n",
    "    p_0 = (math.sin(phi / 2)) ** 2\n",
    "    return numpy.random.choice([0,1], size=(1,1), p=[p_0, 1-p_0]).reshape(1)[0]"
   ]
  },
  {
   "cell_type": "code",
   "execution_count": 128,
   "metadata": {},
   "outputs": [],
   "source": [
    "#returns the probability of the given state depending on the given flux \n",
    "\n",
    "import math\n",
    "\n",
    "def pstate(data, x, f):\n",
    "    if x == 0:\n",
    "        return (math.sin(data.const * f * data.t / 2)) ** 2\n",
    "    else:\n",
    "        return (math.cos(data.const * f * data.t / 2)) ** 2"
   ]
  },
  {
   "cell_type": "code",
   "execution_count": 129,
   "metadata": {},
   "outputs": [],
   "source": [
    "#the bayes theorem\n",
    "\n",
    "def bayes(data, pres):\n",
    "    \n",
    "    h = randbin(data, data.flux_real)\n",
    "    #normalization = 0\n",
    "\n",
    "    for i in range(len(pres)):\n",
    "        pres[i] = pres[i] * pstate(data, h, data.flux_min + i * data.flux_step)\n",
    "        #normalization += pres[i]\n",
    "    \n",
    "    #for i in range(len(pres)):\n",
    "        #pres[i] /= normalization"
   ]
  },
  {
   "cell_type": "code",
   "execution_count": 130,
   "metadata": {},
   "outputs": [],
   "source": [
    "#fills arrays with a uniform distribution\n",
    "\n",
    "def begin(data, array1, array2, array3):\n",
    "    \n",
    "    for i in range(data.n):\n",
    "        array1.append(1 / data.n)\n",
    "        array2.append(1 / data.n)\n",
    "        array3.append(data.flux_min + i * data.flux_step)"
   ]
  },
  {
   "cell_type": "code",
   "execution_count": 131,
   "metadata": {},
   "outputs": [],
   "source": [
    "#draws the function\n",
    "\n",
    "import matplotlib.pyplot as plt\n",
    "\n",
    "def draw1(data, array1, array2):\n",
    "    \n",
    "    plt.rcParams['figure.figsize'] = [10, 8]\n",
    "    \n",
    "    x = []\n",
    "    for i in range(data.n):\n",
    "        x.append(data.flux_min + i * data.flux_step)\n",
    "    \n",
    "    plt.plot(x, array1, 'o', color = 'b', label = 'final step')\n",
    "    plt.plot(x, array2, 'o', color = 'r', label = 'initial')\n",
    "    plt.grid(which='major', color='k', linewidth=1)\n",
    "    plt.grid(which='minor', color='k', linestyle=':')\n",
    "    plt.show()"
   ]
  },
  {
   "cell_type": "code",
   "execution_count": 132,
   "metadata": {},
   "outputs": [],
   "source": [
    "#calculates the average \n",
    "\n",
    "import math\n",
    "\n",
    "def avg(x, y):\n",
    "    \n",
    "    avg = 0\n",
    "    normalization = 0\n",
    "    \n",
    "    for i in range(len(x)):\n",
    "        avg += x[i] * y[i]\n",
    "        normalization += x[i]\n",
    "        \n",
    "    return avg / normalization #average x"
   ]
  },
  {
   "cell_type": "code",
   "execution_count": 133,
   "metadata": {},
   "outputs": [],
   "source": [
    "#calculates the standart deviation\n",
    "\n",
    "import math\n",
    "\n",
    "def stdev(x, y):\n",
    "    \n",
    "    average = avg(x, y) #average x\n",
    "    \n",
    "    sum = 0\n",
    "    for i in range(len(x)):\n",
    "        sum += (y[i] - average) ** 2  \n",
    "        \n",
    "    if sum == 0:\n",
    "        return len(x) / 2 #if the function gets a uniform distribution, the standart deviation is a half of the interval\n",
    "    else:\n",
    "        return math.sqrt(sum / len(x)) #standart deviation of x"
   ]
  },
  {
   "cell_type": "code",
   "execution_count": 144,
   "metadata": {},
   "outputs": [
    {
     "name": "stdout",
     "output_type": "stream",
     "text": [
      "real flux is 22.802896845208256 +- 39.68226833249814 ( 174.02292613026873 %)\n",
      "difference with the real flux is 23.990343849305816 %\n"
     ]
    },
    {
     "data": {
      "image/png": "[encoded data removed]",
      "text/plain": [
       "<Figure size 720x576 with 1 Axes>"
      ]
     },
     "metadata": {
      "needs_background": "light"
     },
     "output_type": "display_data"
    }
   ],
   "source": [
    "#main\n",
    "\n",
    "import math\n",
    "\n",
    "experiment = data()\n",
    "\n",
    "present = []\n",
    "initial = []\n",
    "interval = []\n",
    "\n",
    "begin(a, present, initial, interval)\n",
    "\n",
    "#for i in range(int(math.log2(experiment.t_max / experiment.t_min))):\n",
    "for i in range(4):\n",
    "    bayes(experiment, present)\n",
    "    experiment.timestep()\n",
    "\n",
    "real = avg(present, interval)\n",
    "abs_error = stdev(present, interval)\n",
    "\n",
    "print('real flux is', real, '+-', abs_error, '(', abs_error / real * 100, '%)')\n",
    "\n",
    "print('difference with the real flux is', (experiment.flux_real - real) / experiment.flux_real * 100, '%')\n",
    "\n",
    "draw1(experiment, present, initial)"
   ]
  },
  {
   "cell_type": "code",
   "execution_count": null,
   "metadata": {},
   "outputs": [],
   "source": []
  },
  {
   "cell_type": "code",
   "execution_count": null,
   "metadata": {},
   "outputs": [],
   "source": []
  }
 ],
 "metadata": {
  "kernelspec": {
   "display_name": "Python 3",
   "language": "python",
   "name": "python3"
  },
  "language_info": {
   "codemirror_mode": {
    "name": "ipython",
    "version": 3
   },
   "file_extension": ".py",
   "mimetype": "text/x-python",
   "name": "python",
   "nbconvert_exporter": "python",
   "pygments_lexer": "ipython3",
   "version": "3.8.0"
  }
 },
 "nbformat": 4,
 "nbformat_minor": 4
}
