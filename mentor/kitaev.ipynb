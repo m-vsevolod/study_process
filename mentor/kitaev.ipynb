{
 "cells": [
  {
   "cell_type": "code",
   "execution_count": 30,
   "metadata": {},
   "outputs": [],
   "source": [
    "#immitates the qubit\n",
    "\n",
    "import numpy as np\n",
    "\n",
    "def randbin(data, F):\n",
    "    phi = data.const * F * data.t * data.F_degree\n",
    "    p_0 = (math.sin(phi/2)) ** 2\n",
    "    return np.random.choice([0,1], size=(1,1), p=[p_0, 1-p_0]).reshape(1)[0]"
   ]
  },
  {
   "cell_type": "code",
   "execution_count": 66,
   "metadata": {},
   "outputs": [],
   "source": [
    "#information about the experiment\n",
    "\n",
    "class data:\n",
    "    \n",
    "    const = 100000 #magnetic constant\n",
    "    F_degree = 180 / math.pi #degrees to radians\n",
    "    \n",
    "    t = 0 #present time\n",
    "    t_min = 3.6 * 10 ** (-9) #starts at\n",
    "    t_max = 360 * 10 ** (-9) #finishes at\n",
    "    \n",
    "    #set the flux range\n",
    "    \n",
    "    flux_min = -1.2\n",
    "    flux_max = 1.2 \n",
    "    flux_step = 0.1\n",
    "    n = 0 #a number of dots\n",
    "    \n",
    "    def __init__(self, present, Tmin, Tmax, Fmin, Fmax, step):\n",
    "        data.t = present\n",
    "        data.t_min = Tmin\n",
    "        data.t_max = Tmax\n",
    "        data.flux_min = Fmin\n",
    "        data.flux_max = Fmax\n",
    "        data.flux_step = step\n",
    "        \n",
    "        data.n = round((Fmax - Fmin)/step) + 1\n",
    "    \n",
    "    def step(self, x):\n",
    "        data.t *= 2 ** x"
   ]
  },
  {
   "cell_type": "code",
   "execution_count": 85,
   "metadata": {},
   "outputs": [],
   "source": [
    "#fills service arrays with initial values\n",
    "\n",
    "def begin(data, prev, pres, init):\n",
    "    for i in range(data.n):\n",
    "        prev.append(1 / data.n)\n",
    "        pres.append(1 / data.n)\n",
    "        init.append(1 / data.n)"
   ]
  },
  {
   "cell_type": "code",
   "execution_count": 73,
   "metadata": {},
   "outputs": [],
   "source": [
    "#calculates the standart deviation\n",
    "\n",
    "def stdev(array):\n",
    "    \n",
    "    avg = 0\n",
    "    for i in range(len(array)):\n",
    "        avg += array[i]\n",
    "    avg /= len(array)\n",
    "    \n",
    "    sum = 0\n",
    "    for i in range(len(array)):\n",
    "        sum += (array[i] - avg) ** 2\n",
    "        \n",
    "    #костыль !!!   \n",
    "        \n",
    "    if sum == 0:\n",
    "        return \n",
    "    else:\n",
    "        return math.sqrt(sum / len(array))"
   ]
  },
  {
   "cell_type": "code",
   "execution_count": 70,
   "metadata": {},
   "outputs": [],
   "source": [
    "#fits the qubit's probability distribution\n",
    "\n",
    "def prob(array, p, q):\n",
    "    \n",
    "    sigma = stdev(array)\n",
    "    return math.exp( - (p - q) ** 2 / (math.sqrt(2) * sigma) ** 2) / (math.sqrt(2 * math.pi) * sigma)"
   ]
  },
  {
   "cell_type": "code",
   "execution_count": 54,
   "metadata": {},
   "outputs": [],
   "source": [
    "#one iteration of bayesian learning algorithn\n",
    "\n",
    "def bayes(data, p, prev, pres):\n",
    "    \n",
    "    normalization = 0 #normalization coefficient\n",
    "    \n",
    "    for i in range(len(prev)):\n",
    "        normalization += prob(prev, p, prev[i]) * prev[i]\n",
    "    \n",
    "    for i in range(len(pres)):\n",
    "        pres[i] = prob(prev, p, prev[i]) * pres[i] / normalization    "
   ]
  },
  {
   "cell_type": "code",
   "execution_count": 87,
   "metadata": {
    "scrolled": true
   },
   "outputs": [
    {
     "name": "stdout",
     "output_type": "stream",
     "text": [
      "[0.04, 0.04, 0.04, 0.04, 0.04, 0.04, 0.04, 0.04, 0.04, 0.04, 0.04, 0.04, 0.04, 0.04, 0.04, 0.04, 0.04, 0.04, 0.04, 0.04, 0.04, 0.04, 0.04, 0.04, 0.04]\n",
      "[0.03999999999999998, 0.03999999999999998, 0.03999999999999998, 0.03999999999999998, 0.03999999999999998, 0.03999999999999998, 0.03999999999999998, 0.03999999999999998, 0.03999999999999998, 0.03999999999999998, 0.03999999999999998, 0.03999999999999998, 0.03999999999999998, 0.03999999999999998, 0.03999999999999998, 0.03999999999999998, 0.03999999999999998, 0.03999999999999998, 0.03999999999999998, 0.03999999999999998, 0.03999999999999998, 0.03999999999999998, 0.03999999999999998, 0.03999999999999998, 0.03999999999999998]\n",
      "[0.03999999999999998, 0.03999999999999998, 0.03999999999999998, 0.03999999999999998, 0.03999999999999998, 0.03999999999999998, 0.03999999999999998, 0.03999999999999998, 0.03999999999999998, 0.03999999999999998, 0.03999999999999998, 0.03999999999999998, 0.03999999999999998, 0.03999999999999998, 0.03999999999999998, 0.03999999999999998, 0.03999999999999998, 0.03999999999999998, 0.03999999999999998, 0.03999999999999998, 0.03999999999999998, 0.03999999999999998, 0.03999999999999998, 0.03999999999999998, 0.03999999999999998]\n",
      "[0.03999999999999998, 0.03999999999999998, 0.03999999999999998, 0.03999999999999998, 0.03999999999999998, 0.03999999999999998, 0.03999999999999998, 0.03999999999999998, 0.03999999999999998, 0.03999999999999998, 0.03999999999999998, 0.03999999999999998, 0.03999999999999998, 0.03999999999999998, 0.03999999999999998, 0.03999999999999998, 0.03999999999999998, 0.03999999999999998, 0.03999999999999998, 0.03999999999999998, 0.03999999999999998, 0.03999999999999998, 0.03999999999999998, 0.03999999999999998, 0.03999999999999998]\n",
      "[0.03999999999999999, 0.03999999999999999, 0.03999999999999999, 0.03999999999999999, 0.03999999999999999, 0.03999999999999999, 0.03999999999999999, 0.03999999999999999, 0.03999999999999999, 0.03999999999999999, 0.03999999999999999, 0.03999999999999999, 0.03999999999999999, 0.03999999999999999, 0.03999999999999999, 0.03999999999999999, 0.03999999999999999, 0.03999999999999999, 0.03999999999999999, 0.03999999999999999, 0.03999999999999999, 0.03999999999999999, 0.03999999999999999, 0.03999999999999999, 0.03999999999999999]\n",
      "[0.03999999999999999, 0.03999999999999999, 0.03999999999999999, 0.03999999999999999, 0.03999999999999999, 0.03999999999999999, 0.03999999999999999, 0.03999999999999999, 0.03999999999999999, 0.03999999999999999, 0.03999999999999999, 0.03999999999999999, 0.03999999999999999, 0.03999999999999999, 0.03999999999999999, 0.03999999999999999, 0.03999999999999999, 0.03999999999999999, 0.03999999999999999, 0.03999999999999999, 0.03999999999999999, 0.03999999999999999, 0.03999999999999999, 0.03999999999999999, 0.03999999999999999]\n",
      "[0.03999999999999999, 0.03999999999999999, 0.03999999999999999, 0.03999999999999999, 0.03999999999999999, 0.03999999999999999, 0.03999999999999999, 0.03999999999999999, 0.03999999999999999, 0.03999999999999999, 0.03999999999999999, 0.03999999999999999, 0.03999999999999999, 0.03999999999999999, 0.03999999999999999, 0.03999999999999999, 0.03999999999999999, 0.03999999999999999, 0.03999999999999999, 0.03999999999999999, 0.03999999999999999, 0.03999999999999999, 0.03999999999999999, 0.03999999999999999, 0.03999999999999999]\n"
     ]
    }
   ],
   "source": [
    "#main\n",
    "\n",
    "t_min = 3.6 * 10 ** (-9) #starts at\n",
    "t_max = 360 * 10 ** (-9) #finishes at\n",
    "flux_min = -1.2 \n",
    "flux_max = 1.2 #the flux range\n",
    "flux_step = 0.1\n",
    "\n",
    "a = data(t_min, t_min, t_max, flux_min, flux_max, flux_step)\n",
    "\n",
    "previous = []\n",
    "present = []\n",
    "init = []\n",
    "\n",
    "begin(a, previous, present, init)\n",
    "\n",
    "print(present)\n",
    "\n",
    "for i in range( int(math.log2(a.t_max / a.t_min)) ):\n",
    "    a.step(i) #time now is multiplied by 2\n",
    "    p = randbin(a, 0.001) #qubit's state is changed\n",
    "    bayes(a, p, previous, present) #distribution is changed\n",
    "    print(present)\n",
    "    previous = present\n",
    "\n"
   ]
  },
  {
   "cell_type": "code",
   "execution_count": null,
   "metadata": {},
   "outputs": [],
   "source": [
    "#проблемы:\n",
    "# 1) как запускать алгоритм, если на первом шаге распределение равномерное и среднеквадратичное отклонение = 0 (stdev)\n",
    "# 2) знание констант для адекватной работы"
   ]
  }
 ],
 "metadata": {
  "kernelspec": {
   "display_name": "Python 3",
   "language": "python",
   "name": "python3"
  },
  "language_info": {
   "codemirror_mode": {
    "name": "ipython",
    "version": 3
   },
   "file_extension": ".py",
   "mimetype": "text/x-python",
   "name": "python",
   "nbconvert_exporter": "python",
   "pygments_lexer": "ipython3",
   "version": "3.8.0"
  }
 },
 "nbformat": 4,
 "nbformat_minor": 4
}
