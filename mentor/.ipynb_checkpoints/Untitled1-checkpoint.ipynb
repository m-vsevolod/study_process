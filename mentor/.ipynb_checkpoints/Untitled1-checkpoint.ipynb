{
 "cells": [
  {
   "cell_type": "code",
   "execution_count": 22,
   "metadata": {},
   "outputs": [],
   "source": [
    "#keeps the information about the experiment\n",
    "\n",
    "import math\n",
    "\n",
    "class data:\n",
    "    const = 10000\n",
    "    \n",
    "    t = 0\n",
    "    \n",
    "    flux_real = 723\n",
    "    flux_min = 0\n",
    "    flux_max = 1000\n",
    "    flux_step = 0.01\n",
    "    \n",
    "    t_min = (math.pi / 2) / (const * (flux_max + flux_min) / 2)\n",
    "    t_max = (math.pi / 2) / (const * (flux_max + flux_min) / 2) * 1024\n",
    "    \n",
    "    n = round((flux_max - flux_min) / flux_step) + 1\n",
    "    \n",
    "    def __init__(self):\n",
    "        data.t = data.t_min\n",
    "                 \n",
    "    def time_step(self):\n",
    "        data.t *= 2"
   ]
  },
  {
   "cell_type": "code",
   "execution_count": 14,
   "metadata": {},
   "outputs": [],
   "source": [
    "#returns the state \n",
    "\n",
    "import math\n",
    "import numpy as np\n",
    "\n",
    "np.random.seed(47)\n",
    "\n",
    "def randbin(data, f):\n",
    "    phi = data.const * f * data.t\n",
    "    p_0 = (math.sin(phi / 2)) ** 2\n",
    "    return np.random.choice([0,1], size=(1,1), p=[p_0, 1-p_0]).reshape(1)[0]"
   ]
  },
  {
   "cell_type": "code",
   "execution_count": 15,
   "metadata": {},
   "outputs": [],
   "source": [
    "#returns the probability of the given state depending on the given flux \n",
    "\n",
    "import math\n",
    "\n",
    "def pstate(data, x, f):\n",
    "    if x == 0:\n",
    "        return (math.sin(data.const * f * data.t / 2)) ** 2\n",
    "    else:\n",
    "        return (math.cos(data.const * f * data.t / 2)) ** 2"
   ]
  },
  {
   "cell_type": "code",
   "execution_count": 16,
   "metadata": {},
   "outputs": [],
   "source": [
    "#the bayes theorem\n",
    "\n",
    "def bayes(data, pres):\n",
    "    \n",
    "    h = randbin(data, data.flux_real)\n",
    "    normalization = 0\n",
    "\n",
    "    for i in range(len(pres)):\n",
    "        pres[i] = pres[i] * pstate(data, h, data.flux_min + i * data.flux_step)\n",
    "        normalization += pres[i]\n",
    "    \n",
    "    for i in range(len(pres)):\n",
    "        pres[i] /= normalization"
   ]
  },
  {
   "cell_type": "code",
   "execution_count": 17,
   "metadata": {},
   "outputs": [],
   "source": [
    "#fills arrays with a uniform distribution\n",
    "\n",
    "def begin(data, array1, array2, array3):\n",
    "    \n",
    "    for i in range(data.n):\n",
    "        array1.append(1 / data.n)\n",
    "        array2.append(1 / data.n)\n",
    "        array3.append(data.flux_min + i * data.flux_step)"
   ]
  },
  {
   "cell_type": "code",
   "execution_count": 109,
   "metadata": {},
   "outputs": [],
   "source": [
    "#draws the function\n",
    "\n",
    "import matplotlib.pyplot as plt\n",
    "import numpy as np\n",
    "\n",
    "def draw_distr(data, array1, array2):\n",
    "    \n",
    "    plt.rcParams['figure.figsize'] = [6, 6]\n",
    "    \n",
    "    x = []\n",
    "    for i in range(data.n):\n",
    "        x.append(data.flux_min + i * data.flux_step)\n",
    "    \n",
    "    plt.plot(x, array1, 'o', color = 'b', label = 'final step')\n",
    "    plt.plot(x, array2, 'o', color = 'r', label = 'initial')\n",
    "    plt.grid(which='major', color='k', linewidth=1)\n",
    "    plt.grid(which='minor', color='k', linestyle=':')\n",
    "    plt.show()\n",
    "\n",
    "def draw_scale(dflux, dtime):\n",
    "    \n",
    "    heiz = []\n",
    "    scal = []\n",
    "    \n",
    "    for i in range(len(dtime)):\n",
    "        heiz.append(math.log2(1 / dtime[i]))\n",
    "        scal.append(math.log2(1 / math.sqrt(dtime[i])))        \n",
    "    \n",
    "    for i in range(len(dflux)):\n",
    "        dflux[i] = math.log2(dflux[i])\n",
    "        dtime[i] = math.log2(dtime[i])\n",
    "    \n",
    "    plt.rcParams['figure.figsize'] = [10,10]\n",
    "\n",
    "    plt.plot(dflux, dtime, 'o', color = 'r', label = 'experiment')\n",
    "    plt.plot(heiz, dtime, 'o', color = 'g', label = 'heizenberg')\n",
    "    plt.plot(scal, dtime, 'o', color = 'g', label = 'scal')    \n",
    "    \n",
    "    plt.show()"
   ]
  },
  {
   "cell_type": "code",
   "execution_count": 104,
   "metadata": {},
   "outputs": [],
   "source": [
    "#calculates the average \n",
    "\n",
    "import math\n",
    "\n",
    "def avg(x, y):\n",
    "    \n",
    "    avg = 0\n",
    "    normalization = 0\n",
    "    \n",
    "    for i in range(len(x)):\n",
    "        avg += x[i] * y[i]\n",
    "        normalization += x[i]\n",
    "        \n",
    "    return avg / normalization #average x"
   ]
  },
  {
   "cell_type": "code",
   "execution_count": 105,
   "metadata": {},
   "outputs": [],
   "source": [
    "#calculates the error\n",
    "\n",
    "import math\n",
    "\n",
    "def sigma(probs, fluxes):\n",
    "    \n",
    "    number = 1 / math.sqrt(2)\n",
    "    \n",
    "    pike_x = avg(probs, fluxes) \n",
    "    pike_y = 0\n",
    "    \n",
    "    for i in range(len(probs)):\n",
    "        if probs[i] > pike_y:\n",
    "            pike_y = probs[i]\n",
    "    \n",
    "    flux_step = fluxes[1] - fluxes[0]\n",
    "    \n",
    "    count = 0\n",
    "    \n",
    "    for i in range(len(probs)):\n",
    "        if probs[i] > number * pike_y:\n",
    "            count = count + 1\n",
    "        \n",
    "    return count * flux_step / 2"
   ]
  },
  {
   "cell_type": "code",
   "execution_count": 111,
   "metadata": {
    "scrolled": false
   },
   "outputs": [
    {
     "data": {
      "image/png": "[encoded data removed]",
      "text/plain": [
       "<Figure size 432x432 with 1 Axes>"
      ]
     },
     "metadata": {
      "needs_background": "light"
     },
     "output_type": "display_data"
    },
    {
     "name": "stdout",
     "output_type": "stream",
     "text": [
      "calculated flux is 696.5931242462306 +- 0.84 ( 0.12058689222764682 %)\n",
      "and the real flux was 723 . mistake: 3.6524032854452897 %\n"
     ]
    },
    {
     "data": {
      "image/png": "[encoded data removed]",
      "text/plain": [
       "<Figure size 720x720 with 1 Axes>"
      ]
     },
     "metadata": {
      "needs_background": "light"
     },
     "output_type": "display_data"
    }
   ],
   "source": [
    "#main\n",
    "\n",
    "import math\n",
    "\n",
    "experiment = data()\n",
    "\n",
    "present = []\n",
    "initial = []\n",
    "interval = []\n",
    "\n",
    "delta_flux = []\n",
    "delta_t = []\n",
    "\n",
    "begin(experiment, present, initial, interval)\n",
    "\n",
    "for i in range(int(math.log2(experiment.t_max/ experiment.t_min))):\n",
    "    \n",
    "    bayes(experiment, present)\n",
    "    \n",
    "    err = sigma(present, interval)\n",
    "    \n",
    "    delta_flux.append(err)\n",
    "    \n",
    "    if i == 0:\n",
    "        delta_t.append(experiment.t)\n",
    "    else:\n",
    "        delta_t.append(experiment.t + delta_t[i-1])                                            \n",
    "    \n",
    "    experiment.time_step()\n",
    "\n",
    "draw_distr(experiment, present, initial)\n",
    "    \n",
    "calculated = avg(present, interval)\n",
    "\n",
    "print('calculated flux is', calculated, '+-', err, '(', err / calculated * 100, '%)')\n",
    "\n",
    "print('and the real flux was', experiment.flux_real, '. mistake:',\n",
    "      abs(calculated - experiment.flux_real) / experiment.flux_real * 100, '%')\n",
    "    \n",
    "draw_scale(delta_t, delta_flux)"
   ]
  },
  {
   "cell_type": "code",
   "execution_count": null,
   "metadata": {},
   "outputs": [],
   "source": [
    "#полуширина главного пика 1/sqrt(2)\n",
    "#набирать статистику\n",
    "#дискретизация "
   ]
  },
  {
   "cell_type": "code",
   "execution_count": null,
   "metadata": {},
   "outputs": [],
   "source": []
  }
 ],
 "metadata": {
  "kernelspec": {
   "display_name": "Python 3",
   "language": "python",
   "name": "python3"
  },
  "language_info": {
   "codemirror_mode": {
    "name": "ipython",
    "version": 3
   },
   "file_extension": ".py",
   "mimetype": "text/x-python",
   "name": "python",
   "nbconvert_exporter": "python",
   "pygments_lexer": "ipython3",
   "version": "3.8.0"
  }
 },
 "nbformat": 4,
 "nbformat_minor": 4
}
